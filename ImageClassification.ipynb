{
  "cells": [
    {
      "cell_type": "markdown",
      "metadata": {
        "id": "Yqqxn0lrFIO7"
      },
      "source": [
        "# Image Classification\n",
        "Naomi Zilber\n",
        "\n",
        "The data set used is from [this link](https://www.kaggle.com/datasets/puneet6060/intel-image-classification). The target classes are the types of images, which are buildings, forest, glacier, mountain, sea, and street, each corresponding to a number 0-5, respectively. Therefore, the model should be able to predict the image type based on the image itself."
      ]
    },
    {
      "cell_type": "markdown",
      "metadata": {
        "id": "mVGRa7GIFN44"
      },
      "source": [
        "### Load Data"
      ]
    },
    {
      "cell_type": "code",
      "execution_count": 2,
      "metadata": {
        "id": "VFFsTFtwFAXu"
      },
      "outputs": [],
      "source": [
        "import numpy as np\n",
        "import os\n",
        "import cv2\n",
        "from PIL import Image\n",
        "import matplotlib.pyplot as plt\n",
        "from sklearn.utils import shuffle\n",
        "import tensorflow as tf\n",
        "from sklearn.model_selection import train_test_split"
      ]
    },
    {
      "cell_type": "markdown",
      "metadata": {
        "id": "5NxX0XoE4s9p"
      },
      "source": [
        "The training data has 60K observations, but training\n",
        "will select batches of 128 examples at a time. The target, the image type, has 6 classes. The number of epochs is limited to 20, so training will stop after 20 forward and backward passes."
      ]
    },
    {
      "cell_type": "code",
      "execution_count": 3,
      "metadata": {
        "id": "O_3Vu5OT4rDe"
      },
      "outputs": [],
      "source": [
        "batch_size = 128\n",
        "num_classes = 6\n",
        "epochs = 20"
      ]
    },
    {
      "cell_type": "code",
      "execution_count": null,
      "metadata": {
        "colab": {
          "base_uri": "https://localhost:8080/",
          "height": 0
        },
        "id": "aztYYwqdcqv2",
        "outputId": "0558c4b9-bf95-4425-9bcf-7565c734ec91"
      },
      "outputs": [],
      "source": [
        "from google.colab import drive\n",
        "drive.mount('/content/drive')"
      ]
    },
    {
      "cell_type": "code",
      "execution_count": null,
      "metadata": {
        "colab": {
          "base_uri": "https://localhost:8080/",
          "height": 0
        },
        "id": "0jeEXhEDdPIG",
        "outputId": "f3406dc8-41a7-47db-ef44-c166a83d227e"
      },
      "outputs": [],
      "source": [
        "!unzip /content/drive/MyDrive/ColabNotebooks/images.zip"
      ]
    },
    {
      "cell_type": "code",
      "execution_count": 6,
      "metadata": {
        "id": "THLF0QntYk09"
      },
      "outputs": [],
      "source": [
        "# load the data\n",
        "data = {}\n",
        "X = []\n",
        "train_path = \"/content/seg_train/seg_train\"\n",
        "for folder in os.listdir(train_path):\n",
        "    img_folder =  train_path + \"/\" + folder\n",
        "    images = os.listdir(img_folder)\n",
        "    data[folder] = len(images)\n",
        "    for img in images:\n",
        "        img_path = img_folder + \"/\" + img\n",
        "        temp = Image.open(img_path)\n",
        "        temp = temp.convert(\"RGB\")\n",
        "        temp = np.array(temp)\n",
        "        temp = cv2.resize(temp, (224, 224))\n",
        "        X.append(temp)"
      ]
    },
    {
      "cell_type": "code",
      "execution_count": 7,
      "metadata": {
        "colab": {
          "base_uri": "https://localhost:8080/",
          "height": 0
        },
        "id": "Bnn3hSraZaYz",
        "outputId": "41dc6edb-ed57-49d1-de60-c053c3e069e2"
      },
      "outputs": [
        {
          "name": "stdout",
          "output_type": "stream",
          "text": [
            "There are 2512 images of mountain\n",
            "There are 2274 images of sea\n",
            "There are 2271 images of forest\n",
            "There are 2404 images of glacier\n",
            "There are 2191 images of buildings\n",
            "There are 2382 images of street\n",
            "Total number of pictures: 11760\n"
          ]
        }
      ],
      "source": [
        "# look at the amount of data\n",
        "for key in data.keys(): \n",
        "    print(\"There are %s images of %s\" % (data[key], key))\n",
        "\n",
        "total = data['glacier'] + data['buildings'] + data['forest'] + data['street'] + data['mountain']\n",
        "print(\"Total number of pictures:\", total)"
      ]
    },
    {
      "cell_type": "code",
      "execution_count": 8,
      "metadata": {
        "id": "SUrwZ8V4fsif"
      },
      "outputs": [],
      "source": [
        "X = np.array(X)\n",
        "y = np.ones((14034,), dtype = \"int32\")"
      ]
    },
    {
      "cell_type": "code",
      "execution_count": 9,
      "metadata": {
        "id": "__m3_25tgKDx"
      },
      "outputs": [],
      "source": [
        "# assign each image type a number\n",
        "# use the numbers found above to calculate each range\n",
        "y[:2404] = 2\n",
        "y[2404:4595] = 0\n",
        "y[4595:7107] = 3\n",
        "y[7107:9489] = 5\n",
        "y[9489:11760] = 1\n",
        "y[11760:] = 4"
      ]
    },
    {
      "cell_type": "code",
      "execution_count": 10,
      "metadata": {
        "id": "DKHpTbfoiWVk"
      },
      "outputs": [],
      "source": [
        "# shuffle the training data since it is too organized\n",
        "X, y = shuffle(X, y, random_state=1234)\n",
        "\n",
        "y = tf.keras.utils.to_categorical(y, num_classes)"
      ]
    },
    {
      "cell_type": "code",
      "execution_count": 11,
      "metadata": {
        "colab": {
          "base_uri": "https://localhost:8080/",
          "height": 0
        },
        "id": "kJpAadZAlbf7",
        "outputId": "bfa7be41-8215-4138-afcf-9b04ccd10d51"
      },
      "outputs": [
        {
          "name": "stdout",
          "output_type": "stream",
          "text": [
            "train size = (11227, 224, 224, 3)\n",
            "test size = (2807, 224, 224, 3)\n"
          ]
        }
      ],
      "source": [
        "# split into test and train data\n",
        "x_train, x_test, y_train, y_test = train_test_split(X, y, test_size=0.2, random_state=1234)\n",
        "\n",
        "# print the dimensions of the train and test data\n",
        "print('train size =', x_train.shape)\n",
        "print('test size =', x_test.shape)"
      ]
    },
    {
      "cell_type": "markdown",
      "metadata": {
        "id": "DuGenVHHLUAh"
      },
      "source": [
        "### Data Exploration"
      ]
    },
    {
      "cell_type": "markdown",
      "metadata": {
        "id": "IDMW7GGIIje3"
      },
      "source": [
        "From the bar plot of the distribution of the target classes, it seems like the distribution is fairly even with all target classes having similar amount of images."
      ]
    },
    {
      "cell_type": "code",
      "execution_count": 11,
      "metadata": {
        "colab": {
          "base_uri": "https://localhost:8080/",
          "height": 487
        },
        "id": "ugdlnlnKLdcn",
        "outputId": "b3ea2975-b5ab-46b2-ceab-31ad2d2ef5c9"
      },
      "outputs": [
        {
          "data": {
            "image/png": "[encoded data removed]",
            "text/plain": [
              "<Figure size 1000x500 with 1 Axes>"
            ]
          },
          "metadata": {},
          "output_type": "display_data"
        }
      ],
      "source": [
        "# graph of the distribution of the target classes\n",
        "\n",
        "target = list(data.keys())\n",
        "amount = list(data.values())\n",
        "  \n",
        "fig = plt.figure(figsize = (10, 5))\n",
        " \n",
        "# creating the bar plot\n",
        "plt.bar(target, amount, color ='navy', width = 0.4)\n",
        "\n",
        "plt.title('Distribution')\n",
        "plt.ylabel('Count')\n",
        "plt.xlabel('Images')\n",
        "plt.show()"
      ]
    },
    {
      "cell_type": "markdown",
      "metadata": {
        "id": "sFcivOBtn67t"
      },
      "source": [
        "### Sequential Model\n",
        "\n",
        "Make a sequential model"
      ]
    },
    {
      "cell_type": "code",
      "execution_count": 12,
      "metadata": {
        "colab": {
          "base_uri": "https://localhost:8080/",
          "height": 0
        },
        "id": "EHzhE7ONn9xm",
        "outputId": "cbcb0d03-26ac-489f-93e9-4fd4503c041e"
      },
      "outputs": [
        {
          "name": "stdout",
          "output_type": "stream",
          "text": [
            "Model: \"sequential\"\n",
            "_________________________________________________________________\n",
            " Layer (type)                Output Shape              Param #   \n",
            "=================================================================\n",
            " flatten (Flatten)           (None, 150528)            0         \n",
            "                                                                 \n",
            " dense (Dense)               (None, 512)               77070848  \n",
            "                                                                 \n",
            " dropout (Dropout)           (None, 512)               0         \n",
            "                                                                 \n",
            " dense_1 (Dense)             (None, 256)               131328    \n",
            "                                                                 \n",
            " dropout_1 (Dropout)         (None, 256)               0         \n",
            "                                                                 \n",
            " dense_2 (Dense)             (None, 6)                 1542      \n",
            "                                                                 \n",
            "=================================================================\n",
            "Total params: 77,203,718\n",
            "Trainable params: 77,203,718\n",
            "Non-trainable params: 0\n",
            "_________________________________________________________________\n"
          ]
        }
      ],
      "source": [
        "# create a sequential model\n",
        "model = tf.keras.models.Sequential([\n",
        "  tf.keras.layers.Flatten(input_shape=(224, 224, 3)),\n",
        "  tf.keras.layers.Dense(512, activation='relu'),\n",
        "  tf.keras.layers.Dropout(0.2),\n",
        "  tf.keras.layers.Dense(256, activation='relu'),\n",
        "  tf.keras.layers.Dropout(0.2),\n",
        "  tf.keras.layers.Dense(num_classes, activation='softmax'),\n",
        "])\n",
        "\n",
        "model.summary()"
      ]
    },
    {
      "cell_type": "code",
      "execution_count": 13,
      "metadata": {
        "id": "pg-NKksxo5u_"
      },
      "outputs": [],
      "source": [
        "model.compile(loss='categorical_crossentropy',\n",
        "              optimizer='rmsprop',\n",
        "              metrics=['accuracy'])"
      ]
    },
    {
      "cell_type": "code",
      "execution_count": 14,
      "metadata": {
        "colab": {
          "base_uri": "https://localhost:8080/",
          "height": 0
        },
        "id": "XCVbIjNdo7G3",
        "outputId": "767a4d22-c5b4-4001-c498-7c7a22f75cc9"
      },
      "outputs": [
        {
          "name": "stdout",
          "output_type": "stream",
          "text": [
            "Epoch 1/20\n",
            "88/88 [==============================] - 177s 2s/step - loss: 9712.4180 - accuracy: 0.1875 - val_loss: 2.0222 - val_accuracy: 0.1792\n",
            "Epoch 2/20\n",
            "88/88 [==============================] - 171s 2s/step - loss: 52.6411 - accuracy: 0.1805 - val_loss: 1.9182 - val_accuracy: 0.1788\n",
            "Epoch 3/20\n",
            "88/88 [==============================] - 179s 2s/step - loss: 9.9246 - accuracy: 0.1792 - val_loss: 1.9353 - val_accuracy: 0.1792\n",
            "Epoch 4/20\n",
            "88/88 [==============================] - 183s 2s/step - loss: 71.8147 - accuracy: 0.1787 - val_loss: 1.9289 - val_accuracy: 0.1792\n",
            "Epoch 5/20\n",
            "88/88 [==============================] - 179s 2s/step - loss: 1.7907 - accuracy: 0.1791 - val_loss: 1.9279 - val_accuracy: 0.1792\n",
            "Epoch 6/20\n",
            "88/88 [==============================] - 178s 2s/step - loss: 1.7906 - accuracy: 0.1791 - val_loss: 1.9303 - val_accuracy: 0.1792\n",
            "Epoch 7/20\n",
            "88/88 [==============================] - 178s 2s/step - loss: 1.7908 - accuracy: 0.1790 - val_loss: 1.9266 - val_accuracy: 0.1792\n",
            "Epoch 8/20\n",
            "88/88 [==============================] - 177s 2s/step - loss: 1.7908 - accuracy: 0.1789 - val_loss: 1.9274 - val_accuracy: 0.1792\n",
            "Epoch 9/20\n",
            "88/88 [==============================] - 169s 2s/step - loss: 1.7908 - accuracy: 0.1790 - val_loss: 1.9263 - val_accuracy: 0.1792\n",
            "Epoch 10/20\n",
            "88/88 [==============================] - 180s 2s/step - loss: 1.7907 - accuracy: 0.1790 - val_loss: 1.9257 - val_accuracy: 0.1792\n",
            "Epoch 11/20\n",
            "88/88 [==============================] - 180s 2s/step - loss: 1.7906 - accuracy: 0.1791 - val_loss: 1.9251 - val_accuracy: 0.1792\n",
            "Epoch 12/20\n",
            "88/88 [==============================] - 179s 2s/step - loss: 1.7907 - accuracy: 0.1791 - val_loss: 1.9265 - val_accuracy: 0.1792\n",
            "Epoch 13/20\n",
            "88/88 [==============================] - 179s 2s/step - loss: 1.7908 - accuracy: 0.1790 - val_loss: 1.9031 - val_accuracy: 0.1792\n",
            "Epoch 14/20\n",
            "88/88 [==============================] - 180s 2s/step - loss: 1.7908 - accuracy: 0.1789 - val_loss: 1.9027 - val_accuracy: 0.1792\n",
            "Epoch 15/20\n",
            "88/88 [==============================] - 180s 2s/step - loss: 1.7908 - accuracy: 0.1789 - val_loss: 1.9050 - val_accuracy: 0.1792\n",
            "Epoch 16/20\n",
            "88/88 [==============================] - 170s 2s/step - loss: 1.7908 - accuracy: 0.1790 - val_loss: 1.9055 - val_accuracy: 0.1792\n",
            "Epoch 17/20\n",
            "88/88 [==============================] - 184s 2s/step - loss: 1.7908 - accuracy: 0.1790 - val_loss: 1.9065 - val_accuracy: 0.1792\n",
            "Epoch 18/20\n",
            "88/88 [==============================] - 165s 2s/step - loss: 1.7908 - accuracy: 0.1790 - val_loss: 1.9081 - val_accuracy: 0.1792\n",
            "Epoch 19/20\n",
            "88/88 [==============================] - 165s 2s/step - loss: 1.7908 - accuracy: 0.1790 - val_loss: 1.9071 - val_accuracy: 0.1792\n",
            "Epoch 20/20\n",
            "88/88 [==============================] - 177s 2s/step - loss: 1.7908 - accuracy: 0.1790 - val_loss: 1.9077 - val_accuracy: 0.1792\n"
          ]
        }
      ],
      "source": [
        "history = model.fit(x_train, y_train,\n",
        "                    batch_size=batch_size,\n",
        "                    epochs=epochs,\n",
        "                    verbose=1,\n",
        "                    validation_data=(x_test, y_test))"
      ]
    },
    {
      "cell_type": "markdown",
      "metadata": {
        "id": "YzO8-Hhezahg"
      },
      "source": [
        "The accuracy is 0.1790 and the validation accuracy is 0.1792."
      ]
    },
    {
      "cell_type": "code",
      "execution_count": 15,
      "metadata": {
        "colab": {
          "base_uri": "https://localhost:8080/",
          "height": 0
        },
        "id": "k-UKbYz7-z1q",
        "outputId": "f114cd5b-1581-497c-9a50-ba826a44f48a"
      },
      "outputs": [
        {
          "data": {
            "text/plain": [
              "dict_keys(['loss', 'accuracy', 'val_loss', 'val_accuracy'])"
            ]
          },
          "execution_count": 15,
          "metadata": {},
          "output_type": "execute_result"
        }
      ],
      "source": [
        "history.history.keys()"
      ]
    },
    {
      "cell_type": "code",
      "execution_count": 17,
      "metadata": {
        "colab": {
          "base_uri": "https://localhost:8080/",
          "height": 472
        },
        "id": "Ulzj2ely-wvK",
        "outputId": "4c171671-22a8-4f4b-8b85-a91d41c788b3"
      },
      "outputs": [
        {
          "data": {
            "image/png": "[encoded data removed]",
            "text/plain": [
              "<Figure size 640x480 with 1 Axes>"
            ]
          },
          "metadata": {},
          "output_type": "display_data"
        }
      ],
      "source": [
        "# plot training & validation accuracy values\n",
        "plt.plot(history.history['val_accuracy'])\n",
        "plt.plot(history.history['accuracy'])\n",
        "plt.title('Model accuracy')\n",
        "plt.ylabel('Accuracy')\n",
        "plt.xlabel('Epoch')\n",
        "plt.legend(['Train', 'Test'], loc='upper left')\n",
        "plt.show()"
      ]
    },
    {
      "cell_type": "code",
      "execution_count": 18,
      "metadata": {
        "colab": {
          "base_uri": "https://localhost:8080/",
          "height": 0
        },
        "id": "qcab-CP0-1qw",
        "outputId": "99a543e8-8ef6-4de4-9bf6-b91c63c84917"
      },
      "outputs": [
        {
          "name": "stdout",
          "output_type": "stream",
          "text": [
            "Test loss: 1.9076663255691528\n",
            "Test accuracy: 0.1791948676109314\n"
          ]
        }
      ],
      "source": [
        "# evaluation\n",
        "score = model.evaluate(x_test, y_test, verbose=0)\n",
        "print('Test loss:', score[0])\n",
        "print('Test accuracy:', score[1])"
      ]
    },
    {
      "cell_type": "markdown",
      "metadata": {
        "id": "1tvcwD8FYLj8"
      },
      "source": [
        "The accuracy of the sequential model is 0.1792, which is not very good."
      ]
    },
    {
      "cell_type": "markdown",
      "metadata": {
        "id": "tcBbT8TnFxCX"
      },
      "source": [
        "### CNN Model\n",
        "\n",
        "Make a convolutional neural network"
      ]
    },
    {
      "cell_type": "code",
      "execution_count": 9,
      "metadata": {
        "colab": {
          "base_uri": "https://localhost:8080/",
          "height": 0
        },
        "id": "3fNHLLQ2FrsZ",
        "outputId": "b15790ab-693c-4969-cee9-7866c4739004"
      },
      "outputs": [
        {
          "name": "stdout",
          "output_type": "stream",
          "text": [
            "Model: \"sequential\"\n",
            "_________________________________________________________________\n",
            " Layer (type)                Output Shape              Param #   \n",
            "=================================================================\n",
            " conv2d (Conv2D)             (None, 222, 222, 32)      896       \n",
            "                                                                 \n",
            " max_pooling2d (MaxPooling2D  (None, 111, 111, 32)     0         \n",
            " )                                                               \n",
            "                                                                 \n",
            " conv2d_1 (Conv2D)           (None, 109, 109, 64)      18496     \n",
            "                                                                 \n",
            " max_pooling2d_1 (MaxPooling  (None, 54, 54, 64)       0         \n",
            " 2D)                                                             \n",
            "                                                                 \n",
            " flatten (Flatten)           (None, 186624)            0         \n",
            "                                                                 \n",
            " dropout (Dropout)           (None, 186624)            0         \n",
            "                                                                 \n",
            " dense (Dense)               (None, 6)                 1119750   \n",
            "                                                                 \n",
            "=================================================================\n",
            "Total params: 1,139,142\n",
            "Trainable params: 1,139,142\n",
            "Non-trainable params: 0\n",
            "_________________________________________________________________\n"
          ]
        }
      ],
      "source": [
        "# make the model\n",
        "model = tf.keras.models.Sequential(\n",
        "    [\n",
        "        tf.keras.Input(shape=(224, 224, 3)),\n",
        "        tf.keras.layers.Conv2D(32, kernel_size=(3, 3), activation=\"relu\"),\n",
        "        tf.keras.layers.MaxPooling2D(pool_size=(2, 2)),\n",
        "        tf.keras.layers.Conv2D(64, kernel_size=(3, 3), activation=\"relu\"),\n",
        "        tf.keras.layers.MaxPooling2D(pool_size=(2, 2)),\n",
        "        tf.keras.layers.Flatten(),\n",
        "        tf.keras.layers.Dropout(0.5),\n",
        "        tf.keras.layers.Dense(num_classes, activation=\"softmax\"),\n",
        "    ]\n",
        ")\n",
        "\n",
        "model.summary()"
      ]
    },
    {
      "cell_type": "code",
      "execution_count": 10,
      "metadata": {
        "id": "_Ynrz4reHVdy"
      },
      "outputs": [],
      "source": [
        "model.compile(loss='categorical_crossentropy',\n",
        "              optimizer='adam',\n",
        "              metrics=['accuracy'])"
      ]
    },
    {
      "cell_type": "code",
      "execution_count": 11,
      "metadata": {
        "colab": {
          "base_uri": "https://localhost:8080/",
          "height": 0
        },
        "id": "3zlgVW2vHZ0z",
        "outputId": "28d4e083-bb10-4b31-c13d-110271134385"
      },
      "outputs": [
        {
          "name": "stdout",
          "output_type": "stream",
          "text": [
            "Epoch 1/10\n",
            "40/40 [==============================] - 496s 12s/step - loss: 238.8341 - accuracy: 0.2480 - val_loss: 1.9834 - val_accuracy: 0.2009\n",
            "Epoch 2/10\n",
            "40/40 [==============================] - 511s 13s/step - loss: 1.6456 - accuracy: 0.3144 - val_loss: 1.6680 - val_accuracy: 0.3114\n",
            "Epoch 3/10\n",
            "40/40 [==============================] - 525s 13s/step - loss: 1.4440 - accuracy: 0.4330 - val_loss: 1.7132 - val_accuracy: 0.3131\n",
            "Epoch 4/10\n",
            "40/40 [==============================] - 495s 12s/step - loss: 1.2263 - accuracy: 0.5340 - val_loss: 1.8991 - val_accuracy: 0.4214\n",
            "Epoch 5/10\n",
            "40/40 [==============================] - 481s 12s/step - loss: 0.9599 - accuracy: 0.6478 - val_loss: 1.9909 - val_accuracy: 0.4264\n",
            "Epoch 6/10\n",
            "40/40 [==============================] - 440s 11s/step - loss: 0.7727 - accuracy: 0.7204 - val_loss: 2.2133 - val_accuracy: 0.4165\n",
            "Epoch 7/10\n",
            "40/40 [==============================] - 463s 12s/step - loss: 0.6691 - accuracy: 0.7610 - val_loss: 2.2590 - val_accuracy: 0.4175\n",
            "Epoch 8/10\n",
            "40/40 [==============================] - 465s 12s/step - loss: 0.6432 - accuracy: 0.7728 - val_loss: 2.3310 - val_accuracy: 0.4122\n",
            "Epoch 9/10\n",
            "40/40 [==============================] - 464s 12s/step - loss: 0.6235 - accuracy: 0.7962 - val_loss: 2.9562 - val_accuracy: 0.4357\n",
            "Epoch 10/10\n",
            "40/40 [==============================] - 463s 12s/step - loss: 0.5346 - accuracy: 0.8200 - val_loss: 3.0672 - val_accuracy: 0.4353\n"
          ]
        }
      ],
      "source": [
        "history = model.fit(x_train[:5000], y_train[:5000],\n",
        "                    batch_size=batch_size,\n",
        "                    epochs=10,\n",
        "                    verbose=1,\n",
        "                    validation_data=(x_test[:5000], y_test[:5000]))"
      ]
    },
    {
      "cell_type": "markdown",
      "metadata": {
        "id": "0z450mw__kOC"
      },
      "source": [
        "For the above code, I had to use only half of the datasets because the system wasn't able to handle more data. I also adjusted the number of epochs because it was taking a very long time for the model to train.\n",
        "\n",
        "The accuracy ended up being 0.82 and the validation accuracy is 0.4353, which is much better than the sequential model and a big improvement."
      ]
    },
    {
      "cell_type": "code",
      "execution_count": 12,
      "metadata": {
        "colab": {
          "base_uri": "https://localhost:8080/",
          "height": 472
        },
        "id": "nrZhqcdJN0OQ",
        "outputId": "21247f59-6c7e-4f67-d012-328d0e41779f"
      },
      "outputs": [
        {
          "data": {
            "image/png": "[encoded data removed]",
            "text/plain": [
              "<Figure size 640x480 with 1 Axes>"
            ]
          },
          "metadata": {},
          "output_type": "display_data"
        }
      ],
      "source": [
        "# Plot training & validation accuracy values\n",
        "plt.plot(history.history['val_accuracy'])\n",
        "plt.plot(history.history['accuracy'])\n",
        "plt.title('Model accuracy')\n",
        "plt.ylabel('Accuracy')\n",
        "plt.xlabel('Epoch')\n",
        "plt.legend(['Train', 'Test'], loc='upper left')\n",
        "plt.show()"
      ]
    },
    {
      "cell_type": "code",
      "execution_count": 13,
      "metadata": {
        "colab": {
          "base_uri": "https://localhost:8080/",
          "height": 0
        },
        "id": "71zOJYrzOIfr",
        "outputId": "a41cc762-e49e-49bd-f2b7-bfa94e4a3455"
      },
      "outputs": [
        {
          "name": "stdout",
          "output_type": "stream",
          "text": [
            "Test loss: 3.0672171115875244\n",
            "Test accuracy: 0.4353402256965637\n"
          ]
        }
      ],
      "source": [
        "# evaluation\n",
        "score = model.evaluate(x_test[:5000], y_test[:5000], verbose=0)\n",
        "print('Test loss:', score[0])\n",
        "print('Test accuracy:', score[1])"
      ]
    },
    {
      "cell_type": "markdown",
      "metadata": {
        "id": "nGsCpYmVAYdM"
      },
      "source": [
        "The accuracy is 0.4353, which is an improvement on the previous model."
      ]
    },
    {
      "cell_type": "markdown",
      "metadata": {
        "id": "N7azfAKdNfZ-"
      },
      "source": [
        "### Pretrained Transfer Learning Model"
      ]
    },
    {
      "cell_type": "markdown",
      "metadata": {
        "id": "cCKElhtCQoVJ"
      },
      "source": [
        "#### Creating the base model"
      ]
    },
    {
      "cell_type": "code",
      "execution_count": 12,
      "metadata": {
        "id": "AKvt2abdKDt7"
      },
      "outputs": [],
      "source": [
        "# Use only a small subset of the original data because the system keeps crashing\n",
        "train_x = x_train[:50]\n",
        "train_y = y_train[:50]\n",
        "\n",
        "test_x = x_test[:50]\n",
        "test_y = y_test[:50]"
      ]
    },
    {
      "cell_type": "code",
      "execution_count": 13,
      "metadata": {
        "id": "kBAb0hfPLxOK"
      },
      "outputs": [],
      "source": [
        "# check that the distribution of the new dataset is relatively even\n",
        "def evenDist(dataset):\n",
        "  lb1 = 0\n",
        "  lb2 = 0\n",
        "  lb3 = 0\n",
        "  lb4 = 0\n",
        "  lb5 = 0\n",
        "  lb6 = 0\n",
        "  for i in range(50):\n",
        "    if np.array_equal(dataset[i], [0,0,0,0,0,1], equal_nan=False):\n",
        "      lb1 += 1\n",
        "    elif np.array_equal(dataset[i], [0,0,0,0,1,0], equal_nan=False):\n",
        "      lb2 += 1\n",
        "    elif np.array_equal(dataset[i], [0,0,0,1,0,0], equal_nan=False):\n",
        "      lb3 += 1\n",
        "    elif np.array_equal(dataset[i], [0,0,1,0,0,0], equal_nan=False):\n",
        "      lb4 += 1\n",
        "    elif np.array_equal(dataset[i], [0,1,0,0,0,0], equal_nan=False):\n",
        "      lb5 += 1\n",
        "    else:\n",
        "      lb6 += 1\n",
        "  return (lb1, lb2, lb3, lb4, lb5, lb6)"
      ]
    },
    {
      "cell_type": "code",
      "execution_count": 14,
      "metadata": {
        "colab": {
          "base_uri": "https://localhost:8080/",
          "height": 0
        },
        "id": "3HNG4ykoPK_Z",
        "outputId": "484f04dc-85a9-410d-eea9-e83d807f7152"
      },
      "outputs": [
        {
          "name": "stdout",
          "output_type": "stream",
          "text": [
            "lb1 = 12\n",
            "lb2 = 10\n",
            "lb3 = 5\n",
            "lb4 = 11\n",
            "lb5 = 7\n",
            "lb6 = 5\n",
            "\n",
            "lb1 = 8\n",
            "lb2 = 8\n",
            "lb3 = 7\n",
            "lb4 = 10\n",
            "lb5 = 13\n",
            "lb6 = 4\n"
          ]
        }
      ],
      "source": [
        "# the distribution looks relatively even among the target classes\n",
        "\n",
        "lbs1 = evenDist(train_y)\n",
        "print('lb1 =', lbs1[0])\n",
        "print('lb2 =', lbs1[1])\n",
        "print('lb3 =', lbs1[2])\n",
        "print('lb4 =', lbs1[3])\n",
        "print('lb5 =', lbs1[4])\n",
        "print('lb6 =', lbs1[5])\n",
        "\n",
        "lbs2 = evenDist(test_y)\n",
        "print('\\nlb1 =', lbs2[0])\n",
        "print('lb2 =', lbs2[1])\n",
        "print('lb3 =', lbs2[2])\n",
        "print('lb4 =', lbs2[3])\n",
        "print('lb5 =', lbs2[4])\n",
        "print('lb6 =', lbs2[5])"
      ]
    },
    {
      "cell_type": "code",
      "execution_count": 58,
      "metadata": {
        "id": "4NmBCklTNj9M"
      },
      "outputs": [],
      "source": [
        "preprocess_input = tf.keras.applications.mobilenet_v2.preprocess_input\n",
        "\n",
        "# rescale pixel values\n",
        "rescale = tf.keras.layers.Rescaling(1./127.5, offset=-1)"
      ]
    },
    {
      "cell_type": "code",
      "execution_count": 59,
      "metadata": {
        "id": "ZyS26KviPqiB"
      },
      "outputs": [],
      "source": [
        "IMG_SIZE = (224, 224)\n",
        "\n",
        "# Create the base model from the pre-trained model MobileNet V2\n",
        "IMG_SHAPE = IMG_SIZE + (3,)\n",
        "base_model = tf.keras.applications.MobileNetV2(input_shape=IMG_SHAPE,\n",
        "                                               include_top=False,\n",
        "                                               weights='imagenet')"
      ]
    },
    {
      "cell_type": "markdown",
      "metadata": {
        "id": "Lc69STvBw3iz"
      },
      "source": [
        "Convert each 224x224x3 image into a 7x7x1280 block of features"
      ]
    },
    {
      "cell_type": "code",
      "execution_count": 60,
      "metadata": {
        "colab": {
          "base_uri": "https://localhost:8080/",
          "height": 0
        },
        "id": "_5JRu5qcQOvJ",
        "outputId": "04f7c913-de39-4de8-f487-48289c08806c"
      },
      "outputs": [
        {
          "name": "stdout",
          "output_type": "stream",
          "text": [
            "(50, 7, 7, 1280)\n"
          ]
        }
      ],
      "source": [
        "image_batch = train_x\n",
        "label_batch = train_y\n",
        "feature_batch = base_model(image_batch)\n",
        "print(feature_batch.shape)"
      ]
    },
    {
      "cell_type": "markdown",
      "metadata": {
        "id": "95hhVhLNQq3K"
      },
      "source": [
        "#### Feature extraction"
      ]
    },
    {
      "cell_type": "code",
      "execution_count": 61,
      "metadata": {
        "id": "UpE3zPEFQv9k"
      },
      "outputs": [],
      "source": [
        "# freeze the convolutional base model\n",
        "base_model.trainable = False"
      ]
    },
    {
      "cell_type": "code",
      "execution_count": 62,
      "metadata": {
        "colab": {
          "base_uri": "https://localhost:8080/",
          "height": 0
        },
        "id": "v42LELGmQ3yN",
        "outputId": "32f83022-dfd3-43fb-dd17-b94449812a38"
      },
      "outputs": [
        {
          "name": "stdout",
          "output_type": "stream",
          "text": [
            "Model: \"mobilenetv2_1.00_224\"\n",
            "__________________________________________________________________________________________________\n",
            " Layer (type)                   Output Shape         Param #     Connected to                     \n",
            "==================================================================================================\n",
            " input_8 (InputLayer)           [(None, 224, 224, 3  0           []                               \n",
            "                                )]                                                                \n",
            "                                                                                                  \n",
            " Conv1 (Conv2D)                 (None, 112, 112, 32  864         ['input_8[0][0]']                \n",
            "                                )                                                                 \n",
            "                                                                                                  \n",
            " bn_Conv1 (BatchNormalization)  (None, 112, 112, 32  128         ['Conv1[0][0]']                  \n",
            "                                )                                                                 \n",
            "                                                                                                  \n",
            " Conv1_relu (ReLU)              (None, 112, 112, 32  0           ['bn_Conv1[0][0]']               \n",
            "                                )                                                                 \n",
            "                                                                                                  \n",
            " expanded_conv_depthwise (Depth  (None, 112, 112, 32  288        ['Conv1_relu[0][0]']             \n",
            " wiseConv2D)                    )                                                                 \n",
            "                                                                                                  \n",
            " expanded_conv_depthwise_BN (Ba  (None, 112, 112, 32  128        ['expanded_conv_depthwise[0][0]']\n",
            " tchNormalization)              )                                                                 \n",
            "                                                                                                  \n",
            " expanded_conv_depthwise_relu (  (None, 112, 112, 32  0          ['expanded_conv_depthwise_BN[0][0\n",
            " ReLU)                          )                                ]']                              \n",
            "                                                                                                  \n",
            " expanded_conv_project (Conv2D)  (None, 112, 112, 16  512        ['expanded_conv_depthwise_relu[0]\n",
            "                                )                                [0]']                            \n",
            "                                                                                                  \n",
            " expanded_conv_project_BN (Batc  (None, 112, 112, 16  64         ['expanded_conv_project[0][0]']  \n",
            " hNormalization)                )                                                                 \n",
            "                                                                                                  \n",
            " block_1_expand (Conv2D)        (None, 112, 112, 96  1536        ['expanded_conv_project_BN[0][0]'\n",
            "                                )                                ]                                \n",
            "                                                                                                  \n",
            " block_1_expand_BN (BatchNormal  (None, 112, 112, 96  384        ['block_1_expand[0][0]']         \n",
            " ization)                       )                                                                 \n",
            "                                                                                                  \n",
            " block_1_expand_relu (ReLU)     (None, 112, 112, 96  0           ['block_1_expand_BN[0][0]']      \n",
            "                                )                                                                 \n",
            "                                                                                                  \n",
            " block_1_pad (ZeroPadding2D)    (None, 113, 113, 96  0           ['block_1_expand_relu[0][0]']    \n",
            "                                )                                                                 \n",
            "                                                                                                  \n",
            " block_1_depthwise (DepthwiseCo  (None, 56, 56, 96)  864         ['block_1_pad[0][0]']            \n",
            " nv2D)                                                                                            \n",
            "                                                                                                  \n",
            " block_1_depthwise_BN (BatchNor  (None, 56, 56, 96)  384         ['block_1_depthwise[0][0]']      \n",
            " malization)                                                                                      \n",
            "                                                                                                  \n",
            " block_1_depthwise_relu (ReLU)  (None, 56, 56, 96)   0           ['block_1_depthwise_BN[0][0]']   \n",
            "                                                                                                  \n",
            " block_1_project (Conv2D)       (None, 56, 56, 24)   2304        ['block_1_depthwise_relu[0][0]'] \n",
            "                                                                                                  \n",
            " block_1_project_BN (BatchNorma  (None, 56, 56, 24)  96          ['block_1_project[0][0]']        \n",
            " lization)                                                                                        \n",
            "                                                                                                  \n",
            " block_2_expand (Conv2D)        (None, 56, 56, 144)  3456        ['block_1_project_BN[0][0]']     \n",
            "                                                                                                  \n",
            " block_2_expand_BN (BatchNormal  (None, 56, 56, 144)  576        ['block_2_expand[0][0]']         \n",
            " ization)                                                                                         \n",
            "                                                                                                  \n",
            " block_2_expand_relu (ReLU)     (None, 56, 56, 144)  0           ['block_2_expand_BN[0][0]']      \n",
            "                                                                                                  \n",
            " block_2_depthwise (DepthwiseCo  (None, 56, 56, 144)  1296       ['block_2_expand_relu[0][0]']    \n",
            " nv2D)                                                                                            \n",
            "                                                                                                  \n",
            " block_2_depthwise_BN (BatchNor  (None, 56, 56, 144)  576        ['block_2_depthwise[0][0]']      \n",
            " malization)                                                                                      \n",
            "                                                                                                  \n",
            " block_2_depthwise_relu (ReLU)  (None, 56, 56, 144)  0           ['block_2_depthwise_BN[0][0]']   \n",
            "                                                                                                  \n",
            " block_2_project (Conv2D)       (None, 56, 56, 24)   3456        ['block_2_depthwise_relu[0][0]'] \n",
            "                                                                                                  \n",
            " block_2_project_BN (BatchNorma  (None, 56, 56, 24)  96          ['block_2_project[0][0]']        \n",
            " lization)                                                                                        \n",
            "                                                                                                  \n",
            " block_2_add (Add)              (None, 56, 56, 24)   0           ['block_1_project_BN[0][0]',     \n",
            "                                                                  'block_2_project_BN[0][0]']     \n",
            "                                                                                                  \n",
            " block_3_expand (Conv2D)        (None, 56, 56, 144)  3456        ['block_2_add[0][0]']            \n",
            "                                                                                                  \n",
            " block_3_expand_BN (BatchNormal  (None, 56, 56, 144)  576        ['block_3_expand[0][0]']         \n",
            " ization)                                                                                         \n",
            "                                                                                                  \n",
            " block_3_expand_relu (ReLU)     (None, 56, 56, 144)  0           ['block_3_expand_BN[0][0]']      \n",
            "                                                                                                  \n",
            " block_3_pad (ZeroPadding2D)    (None, 57, 57, 144)  0           ['block_3_expand_relu[0][0]']    \n",
            "                                                                                                  \n",
            " block_3_depthwise (DepthwiseCo  (None, 28, 28, 144)  1296       ['block_3_pad[0][0]']            \n",
            " nv2D)                                                                                            \n",
            "                                                                                                  \n",
            " block_3_depthwise_BN (BatchNor  (None, 28, 28, 144)  576        ['block_3_depthwise[0][0]']      \n",
            " malization)                                                                                      \n",
            "                                                                                                  \n",
            " block_3_depthwise_relu (ReLU)  (None, 28, 28, 144)  0           ['block_3_depthwise_BN[0][0]']   \n",
            "                                                                                                  \n",
            " block_3_project (Conv2D)       (None, 28, 28, 32)   4608        ['block_3_depthwise_relu[0][0]'] \n",
            "                                                                                                  \n",
            " block_3_project_BN (BatchNorma  (None, 28, 28, 32)  128         ['block_3_project[0][0]']        \n",
            " lization)                                                                                        \n",
            "                                                                                                  \n",
            " block_4_expand (Conv2D)        (None, 28, 28, 192)  6144        ['block_3_project_BN[0][0]']     \n",
            "                                                                                                  \n",
            " block_4_expand_BN (BatchNormal  (None, 28, 28, 192)  768        ['block_4_expand[0][0]']         \n",
            " ization)                                                                                         \n",
            "                                                                                                  \n",
            " block_4_expand_relu (ReLU)     (None, 28, 28, 192)  0           ['block_4_expand_BN[0][0]']      \n",
            "                                                                                                  \n",
            " block_4_depthwise (DepthwiseCo  (None, 28, 28, 192)  1728       ['block_4_expand_relu[0][0]']    \n",
            " nv2D)                                                                                            \n",
            "                                                                                                  \n",
            " block_4_depthwise_BN (BatchNor  (None, 28, 28, 192)  768        ['block_4_depthwise[0][0]']      \n",
            " malization)                                                                                      \n",
            "                                                                                                  \n",
            " block_4_depthwise_relu (ReLU)  (None, 28, 28, 192)  0           ['block_4_depthwise_BN[0][0]']   \n",
            "                                                                                                  \n",
            " block_4_project (Conv2D)       (None, 28, 28, 32)   6144        ['block_4_depthwise_relu[0][0]'] \n",
            "                                                                                                  \n",
            " block_4_project_BN (BatchNorma  (None, 28, 28, 32)  128         ['block_4_project[0][0]']        \n",
            " lization)                                                                                        \n",
            "                                                                                                  \n",
            " block_4_add (Add)              (None, 28, 28, 32)   0           ['block_3_project_BN[0][0]',     \n",
            "                                                                  'block_4_project_BN[0][0]']     \n",
            "                                                                                                  \n",
            " block_5_expand (Conv2D)        (None, 28, 28, 192)  6144        ['block_4_add[0][0]']            \n",
            "                                                                                                  \n",
            " block_5_expand_BN (BatchNormal  (None, 28, 28, 192)  768        ['block_5_expand[0][0]']         \n",
            " ization)                                                                                         \n",
            "                                                                                                  \n",
            " block_5_expand_relu (ReLU)     (None, 28, 28, 192)  0           ['block_5_expand_BN[0][0]']      \n",
            "                                                                                                  \n",
            " block_5_depthwise (DepthwiseCo  (None, 28, 28, 192)  1728       ['block_5_expand_relu[0][0]']    \n",
            " nv2D)                                                                                            \n",
            "                                                                                                  \n",
            " block_5_depthwise_BN (BatchNor  (None, 28, 28, 192)  768        ['block_5_depthwise[0][0]']      \n",
            " malization)                                                                                      \n",
            "                                                                                                  \n",
            " block_5_depthwise_relu (ReLU)  (None, 28, 28, 192)  0           ['block_5_depthwise_BN[0][0]']   \n",
            "                                                                                                  \n",
            " block_5_project (Conv2D)       (None, 28, 28, 32)   6144        ['block_5_depthwise_relu[0][0]'] \n",
            "                                                                                                  \n",
            " block_5_project_BN (BatchNorma  (None, 28, 28, 32)  128         ['block_5_project[0][0]']        \n",
            " lization)                                                                                        \n",
            "                                                                                                  \n",
            " block_5_add (Add)              (None, 28, 28, 32)   0           ['block_4_add[0][0]',            \n",
            "                                                                  'block_5_project_BN[0][0]']     \n",
            "                                                                                                  \n",
            " block_6_expand (Conv2D)        (None, 28, 28, 192)  6144        ['block_5_add[0][0]']            \n",
            "                                                                                                  \n",
            " block_6_expand_BN (BatchNormal  (None, 28, 28, 192)  768        ['block_6_expand[0][0]']         \n",
            " ization)                                                                                         \n",
            "                                                                                                  \n",
            " block_6_expand_relu (ReLU)     (None, 28, 28, 192)  0           ['block_6_expand_BN[0][0]']      \n",
            "                                                                                                  \n",
            " block_6_pad (ZeroPadding2D)    (None, 29, 29, 192)  0           ['block_6_expand_relu[0][0]']    \n",
            "                                                                                                  \n",
            " block_6_depthwise (DepthwiseCo  (None, 14, 14, 192)  1728       ['block_6_pad[0][0]']            \n",
            " nv2D)                                                                                            \n",
            "                                                                                                  \n",
            " block_6_depthwise_BN (BatchNor  (None, 14, 14, 192)  768        ['block_6_depthwise[0][0]']      \n",
            " malization)                                                                                      \n",
            "                                                                                                  \n",
            " block_6_depthwise_relu (ReLU)  (None, 14, 14, 192)  0           ['block_6_depthwise_BN[0][0]']   \n",
            "                                                                                                  \n",
            " block_6_project (Conv2D)       (None, 14, 14, 64)   12288       ['block_6_depthwise_relu[0][0]'] \n",
            "                                                                                                  \n",
            " block_6_project_BN (BatchNorma  (None, 14, 14, 64)  256         ['block_6_project[0][0]']        \n",
            " lization)                                                                                        \n",
            "                                                                                                  \n",
            " block_7_expand (Conv2D)        (None, 14, 14, 384)  24576       ['block_6_project_BN[0][0]']     \n",
            "                                                                                                  \n",
            " block_7_expand_BN (BatchNormal  (None, 14, 14, 384)  1536       ['block_7_expand[0][0]']         \n",
            " ization)                                                                                         \n",
            "                                                                                                  \n",
            " block_7_expand_relu (ReLU)     (None, 14, 14, 384)  0           ['block_7_expand_BN[0][0]']      \n",
            "                                                                                                  \n",
            " block_7_depthwise (DepthwiseCo  (None, 14, 14, 384)  3456       ['block_7_expand_relu[0][0]']    \n",
            " nv2D)                                                                                            \n",
            "                                                                                                  \n",
            " block_7_depthwise_BN (BatchNor  (None, 14, 14, 384)  1536       ['block_7_depthwise[0][0]']      \n",
            " malization)                                                                                      \n",
            "                                                                                                  \n",
            " block_7_depthwise_relu (ReLU)  (None, 14, 14, 384)  0           ['block_7_depthwise_BN[0][0]']   \n",
            "                                                                                                  \n",
            " block_7_project (Conv2D)       (None, 14, 14, 64)   24576       ['block_7_depthwise_relu[0][0]'] \n",
            "                                                                                                  \n",
            " block_7_project_BN (BatchNorma  (None, 14, 14, 64)  256         ['block_7_project[0][0]']        \n",
            " lization)                                                                                        \n",
            "                                                                                                  \n",
            " block_7_add (Add)              (None, 14, 14, 64)   0           ['block_6_project_BN[0][0]',     \n",
            "                                                                  'block_7_project_BN[0][0]']     \n",
            "                                                                                                  \n",
            " block_8_expand (Conv2D)        (None, 14, 14, 384)  24576       ['block_7_add[0][0]']            \n",
            "                                                                                                  \n",
            " block_8_expand_BN (BatchNormal  (None, 14, 14, 384)  1536       ['block_8_expand[0][0]']         \n",
            " ization)                                                                                         \n",
            "                                                                                                  \n",
            " block_8_expand_relu (ReLU)     (None, 14, 14, 384)  0           ['block_8_expand_BN[0][0]']      \n",
            "                                                                                                  \n",
            " block_8_depthwise (DepthwiseCo  (None, 14, 14, 384)  3456       ['block_8_expand_relu[0][0]']    \n",
            " nv2D)                                                                                            \n",
            "                                                                                                  \n",
            " block_8_depthwise_BN (BatchNor  (None, 14, 14, 384)  1536       ['block_8_depthwise[0][0]']      \n",
            " malization)                                                                                      \n",
            "                                                                                                  \n",
            " block_8_depthwise_relu (ReLU)  (None, 14, 14, 384)  0           ['block_8_depthwise_BN[0][0]']   \n",
            "                                                                                                  \n",
            " block_8_project (Conv2D)       (None, 14, 14, 64)   24576       ['block_8_depthwise_relu[0][0]'] \n",
            "                                                                                                  \n",
            " block_8_project_BN (BatchNorma  (None, 14, 14, 64)  256         ['block_8_project[0][0]']        \n",
            " lization)                                                                                        \n",
            "                                                                                                  \n",
            " block_8_add (Add)              (None, 14, 14, 64)   0           ['block_7_add[0][0]',            \n",
            "                                                                  'block_8_project_BN[0][0]']     \n",
            "                                                                                                  \n",
            " block_9_expand (Conv2D)        (None, 14, 14, 384)  24576       ['block_8_add[0][0]']            \n",
            "                                                                                                  \n",
            " block_9_expand_BN (BatchNormal  (None, 14, 14, 384)  1536       ['block_9_expand[0][0]']         \n",
            " ization)                                                                                         \n",
            "                                                                                                  \n",
            " block_9_expand_relu (ReLU)     (None, 14, 14, 384)  0           ['block_9_expand_BN[0][0]']      \n",
            "                                                                                                  \n",
            " block_9_depthwise (DepthwiseCo  (None, 14, 14, 384)  3456       ['block_9_expand_relu[0][0]']    \n",
            " nv2D)                                                                                            \n",
            "                                                                                                  \n",
            " block_9_depthwise_BN (BatchNor  (None, 14, 14, 384)  1536       ['block_9_depthwise[0][0]']      \n",
            " malization)                                                                                      \n",
            "                                                                                                  \n",
            " block_9_depthwise_relu (ReLU)  (None, 14, 14, 384)  0           ['block_9_depthwise_BN[0][0]']   \n",
            "                                                                                                  \n",
            " block_9_project (Conv2D)       (None, 14, 14, 64)   24576       ['block_9_depthwise_relu[0][0]'] \n",
            "                                                                                                  \n",
            " block_9_project_BN (BatchNorma  (None, 14, 14, 64)  256         ['block_9_project[0][0]']        \n",
            " lization)                                                                                        \n",
            "                                                                                                  \n",
            " block_9_add (Add)              (None, 14, 14, 64)   0           ['block_8_add[0][0]',            \n",
            "                                                                  'block_9_project_BN[0][0]']     \n",
            "                                                                                                  \n",
            " block_10_expand (Conv2D)       (None, 14, 14, 384)  24576       ['block_9_add[0][0]']            \n",
            "                                                                                                  \n",
            " block_10_expand_BN (BatchNorma  (None, 14, 14, 384)  1536       ['block_10_expand[0][0]']        \n",
            " lization)                                                                                        \n",
            "                                                                                                  \n",
            " block_10_expand_relu (ReLU)    (None, 14, 14, 384)  0           ['block_10_expand_BN[0][0]']     \n",
            "                                                                                                  \n",
            " block_10_depthwise (DepthwiseC  (None, 14, 14, 384)  3456       ['block_10_expand_relu[0][0]']   \n",
            " onv2D)                                                                                           \n",
            "                                                                                                  \n",
            " block_10_depthwise_BN (BatchNo  (None, 14, 14, 384)  1536       ['block_10_depthwise[0][0]']     \n",
            " rmalization)                                                                                     \n",
            "                                                                                                  \n",
            " block_10_depthwise_relu (ReLU)  (None, 14, 14, 384)  0          ['block_10_depthwise_BN[0][0]']  \n",
            "                                                                                                  \n",
            " block_10_project (Conv2D)      (None, 14, 14, 96)   36864       ['block_10_depthwise_relu[0][0]']\n",
            "                                                                                                  \n",
            " block_10_project_BN (BatchNorm  (None, 14, 14, 96)  384         ['block_10_project[0][0]']       \n",
            " alization)                                                                                       \n",
            "                                                                                                  \n",
            " block_11_expand (Conv2D)       (None, 14, 14, 576)  55296       ['block_10_project_BN[0][0]']    \n",
            "                                                                                                  \n",
            " block_11_expand_BN (BatchNorma  (None, 14, 14, 576)  2304       ['block_11_expand[0][0]']        \n",
            " lization)                                                                                        \n",
            "                                                                                                  \n",
            " block_11_expand_relu (ReLU)    (None, 14, 14, 576)  0           ['block_11_expand_BN[0][0]']     \n",
            "                                                                                                  \n",
            " block_11_depthwise (DepthwiseC  (None, 14, 14, 576)  5184       ['block_11_expand_relu[0][0]']   \n",
            " onv2D)                                                                                           \n",
            "                                                                                                  \n",
            " block_11_depthwise_BN (BatchNo  (None, 14, 14, 576)  2304       ['block_11_depthwise[0][0]']     \n",
            " rmalization)                                                                                     \n",
            "                                                                                                  \n",
            " block_11_depthwise_relu (ReLU)  (None, 14, 14, 576)  0          ['block_11_depthwise_BN[0][0]']  \n",
            "                                                                                                  \n",
            " block_11_project (Conv2D)      (None, 14, 14, 96)   55296       ['block_11_depthwise_relu[0][0]']\n",
            "                                                                                                  \n",
            " block_11_project_BN (BatchNorm  (None, 14, 14, 96)  384         ['block_11_project[0][0]']       \n",
            " alization)                                                                                       \n",
            "                                                                                                  \n",
            " block_11_add (Add)             (None, 14, 14, 96)   0           ['block_10_project_BN[0][0]',    \n",
            "                                                                  'block_11_project_BN[0][0]']    \n",
            "                                                                                                  \n",
            " block_12_expand (Conv2D)       (None, 14, 14, 576)  55296       ['block_11_add[0][0]']           \n",
            "                                                                                                  \n",
            " block_12_expand_BN (BatchNorma  (None, 14, 14, 576)  2304       ['block_12_expand[0][0]']        \n",
            " lization)                                                                                        \n",
            "                                                                                                  \n",
            " block_12_expand_relu (ReLU)    (None, 14, 14, 576)  0           ['block_12_expand_BN[0][0]']     \n",
            "                                                                                                  \n",
            " block_12_depthwise (DepthwiseC  (None, 14, 14, 576)  5184       ['block_12_expand_relu[0][0]']   \n",
            " onv2D)                                                                                           \n",
            "                                                                                                  \n",
            " block_12_depthwise_BN (BatchNo  (None, 14, 14, 576)  2304       ['block_12_depthwise[0][0]']     \n",
            " rmalization)                                                                                     \n",
            "                                                                                                  \n",
            " block_12_depthwise_relu (ReLU)  (None, 14, 14, 576)  0          ['block_12_depthwise_BN[0][0]']  \n",
            "                                                                                                  \n",
            " block_12_project (Conv2D)      (None, 14, 14, 96)   55296       ['block_12_depthwise_relu[0][0]']\n",
            "                                                                                                  \n",
            " block_12_project_BN (BatchNorm  (None, 14, 14, 96)  384         ['block_12_project[0][0]']       \n",
            " alization)                                                                                       \n",
            "                                                                                                  \n",
            " block_12_add (Add)             (None, 14, 14, 96)   0           ['block_11_add[0][0]',           \n",
            "                                                                  'block_12_project_BN[0][0]']    \n",
            "                                                                                                  \n",
            " block_13_expand (Conv2D)       (None, 14, 14, 576)  55296       ['block_12_add[0][0]']           \n",
            "                                                                                                  \n",
            " block_13_expand_BN (BatchNorma  (None, 14, 14, 576)  2304       ['block_13_expand[0][0]']        \n",
            " lization)                                                                                        \n",
            "                                                                                                  \n",
            " block_13_expand_relu (ReLU)    (None, 14, 14, 576)  0           ['block_13_expand_BN[0][0]']     \n",
            "                                                                                                  \n",
            " block_13_pad (ZeroPadding2D)   (None, 15, 15, 576)  0           ['block_13_expand_relu[0][0]']   \n",
            "                                                                                                  \n",
            " block_13_depthwise (DepthwiseC  (None, 7, 7, 576)   5184        ['block_13_pad[0][0]']           \n",
            " onv2D)                                                                                           \n",
            "                                                                                                  \n",
            " block_13_depthwise_BN (BatchNo  (None, 7, 7, 576)   2304        ['block_13_depthwise[0][0]']     \n",
            " rmalization)                                                                                     \n",
            "                                                                                                  \n",
            " block_13_depthwise_relu (ReLU)  (None, 7, 7, 576)   0           ['block_13_depthwise_BN[0][0]']  \n",
            "                                                                                                  \n",
            " block_13_project (Conv2D)      (None, 7, 7, 160)    92160       ['block_13_depthwise_relu[0][0]']\n",
            "                                                                                                  \n",
            " block_13_project_BN (BatchNorm  (None, 7, 7, 160)   640         ['block_13_project[0][0]']       \n",
            " alization)                                                                                       \n",
            "                                                                                                  \n",
            " block_14_expand (Conv2D)       (None, 7, 7, 960)    153600      ['block_13_project_BN[0][0]']    \n",
            "                                                                                                  \n",
            " block_14_expand_BN (BatchNorma  (None, 7, 7, 960)   3840        ['block_14_expand[0][0]']        \n",
            " lization)                                                                                        \n",
            "                                                                                                  \n",
            " block_14_expand_relu (ReLU)    (None, 7, 7, 960)    0           ['block_14_expand_BN[0][0]']     \n",
            "                                                                                                  \n",
            " block_14_depthwise (DepthwiseC  (None, 7, 7, 960)   8640        ['block_14_expand_relu[0][0]']   \n",
            " onv2D)                                                                                           \n",
            "                                                                                                  \n",
            " block_14_depthwise_BN (BatchNo  (None, 7, 7, 960)   3840        ['block_14_depthwise[0][0]']     \n",
            " rmalization)                                                                                     \n",
            "                                                                                                  \n",
            " block_14_depthwise_relu (ReLU)  (None, 7, 7, 960)   0           ['block_14_depthwise_BN[0][0]']  \n",
            "                                                                                                  \n",
            " block_14_project (Conv2D)      (None, 7, 7, 160)    153600      ['block_14_depthwise_relu[0][0]']\n",
            "                                                                                                  \n",
            " block_14_project_BN (BatchNorm  (None, 7, 7, 160)   640         ['block_14_project[0][0]']       \n",
            " alization)                                                                                       \n",
            "                                                                                                  \n",
            " block_14_add (Add)             (None, 7, 7, 160)    0           ['block_13_project_BN[0][0]',    \n",
            "                                                                  'block_14_project_BN[0][0]']    \n",
            "                                                                                                  \n",
            " block_15_expand (Conv2D)       (None, 7, 7, 960)    153600      ['block_14_add[0][0]']           \n",
            "                                                                                                  \n",
            " block_15_expand_BN (BatchNorma  (None, 7, 7, 960)   3840        ['block_15_expand[0][0]']        \n",
            " lization)                                                                                        \n",
            "                                                                                                  \n",
            " block_15_expand_relu (ReLU)    (None, 7, 7, 960)    0           ['block_15_expand_BN[0][0]']     \n",
            "                                                                                                  \n",
            " block_15_depthwise (DepthwiseC  (None, 7, 7, 960)   8640        ['block_15_expand_relu[0][0]']   \n",
            " onv2D)                                                                                           \n",
            "                                                                                                  \n",
            " block_15_depthwise_BN (BatchNo  (None, 7, 7, 960)   3840        ['block_15_depthwise[0][0]']     \n",
            " rmalization)                                                                                     \n",
            "                                                                                                  \n",
            " block_15_depthwise_relu (ReLU)  (None, 7, 7, 960)   0           ['block_15_depthwise_BN[0][0]']  \n",
            "                                                                                                  \n",
            " block_15_project (Conv2D)      (None, 7, 7, 160)    153600      ['block_15_depthwise_relu[0][0]']\n",
            "                                                                                                  \n",
            " block_15_project_BN (BatchNorm  (None, 7, 7, 160)   640         ['block_15_project[0][0]']       \n",
            " alization)                                                                                       \n",
            "                                                                                                  \n",
            " block_15_add (Add)             (None, 7, 7, 160)    0           ['block_14_add[0][0]',           \n",
            "                                                                  'block_15_project_BN[0][0]']    \n",
            "                                                                                                  \n",
            " block_16_expand (Conv2D)       (None, 7, 7, 960)    153600      ['block_15_add[0][0]']           \n",
            "                                                                                                  \n",
            " block_16_expand_BN (BatchNorma  (None, 7, 7, 960)   3840        ['block_16_expand[0][0]']        \n",
            " lization)                                                                                        \n",
            "                                                                                                  \n",
            " block_16_expand_relu (ReLU)    (None, 7, 7, 960)    0           ['block_16_expand_BN[0][0]']     \n",
            "                                                                                                  \n",
            " block_16_depthwise (DepthwiseC  (None, 7, 7, 960)   8640        ['block_16_expand_relu[0][0]']   \n",
            " onv2D)                                                                                           \n",
            "                                                                                                  \n",
            " block_16_depthwise_BN (BatchNo  (None, 7, 7, 960)   3840        ['block_16_depthwise[0][0]']     \n",
            " rmalization)                                                                                     \n",
            "                                                                                                  \n",
            " block_16_depthwise_relu (ReLU)  (None, 7, 7, 960)   0           ['block_16_depthwise_BN[0][0]']  \n",
            "                                                                                                  \n",
            " block_16_project (Conv2D)      (None, 7, 7, 320)    307200      ['block_16_depthwise_relu[0][0]']\n",
            "                                                                                                  \n",
            " block_16_project_BN (BatchNorm  (None, 7, 7, 320)   1280        ['block_16_project[0][0]']       \n",
            " alization)                                                                                       \n",
            "                                                                                                  \n",
            " Conv_1 (Conv2D)                (None, 7, 7, 1280)   409600      ['block_16_project_BN[0][0]']    \n",
            "                                                                                                  \n",
            " Conv_1_bn (BatchNormalization)  (None, 7, 7, 1280)  5120        ['Conv_1[0][0]']                 \n",
            "                                                                                                  \n",
            " out_relu (ReLU)                (None, 7, 7, 1280)   0           ['Conv_1_bn[0][0]']              \n",
            "                                                                                                  \n",
            "==================================================================================================\n",
            "Total params: 2,257,984\n",
            "Trainable params: 0\n",
            "Non-trainable params: 2,257,984\n",
            "__________________________________________________________________________________________________\n"
          ]
        }
      ],
      "source": [
        "base_model.summary()"
      ]
    },
    {
      "cell_type": "code",
      "execution_count": 63,
      "metadata": {
        "colab": {
          "base_uri": "https://localhost:8080/",
          "height": 0
        },
        "id": "McQml1ImRB1g",
        "outputId": "b08eefda-c164-4324-eed8-8ad758973157"
      },
      "outputs": [
        {
          "name": "stdout",
          "output_type": "stream",
          "text": [
            "(50, 1280)\n"
          ]
        }
      ],
      "source": [
        "# convert the features to a single 1280-element vector per image\n",
        "global_average_layer = tf.keras.layers.GlobalAveragePooling2D()\n",
        "feature_batch_average = global_average_layer(feature_batch)\n",
        "print(feature_batch_average.shape)"
      ]
    },
    {
      "cell_type": "code",
      "execution_count": 64,
      "metadata": {
        "colab": {
          "base_uri": "https://localhost:8080/",
          "height": 0
        },
        "id": "5p5UL2fTRI4I",
        "outputId": "9eba3f29-dcc4-4740-b460-af440ff404a1"
      },
      "outputs": [
        {
          "name": "stdout",
          "output_type": "stream",
          "text": [
            "(50, 6)\n"
          ]
        }
      ],
      "source": [
        "# convert these features into a single prediction per image\n",
        "prediction_layer = tf.keras.layers.Dense(num_classes)\n",
        "prediction_batch = prediction_layer(feature_batch_average)\n",
        "print(prediction_batch.shape)"
      ]
    },
    {
      "cell_type": "markdown",
      "metadata": {
        "id": "HiezxXvLRcBq"
      },
      "source": [
        "#### Build a model"
      ]
    },
    {
      "cell_type": "code",
      "execution_count": 65,
      "metadata": {
        "id": "qrLmWXfsRc_m"
      },
      "outputs": [],
      "source": [
        "inputs = tf.keras.Input(shape=(224, 224, 3))\n",
        "x = preprocess_input(inputs)\n",
        "x = base_model(x, training=False)\n",
        "x = global_average_layer(x)\n",
        "x = tf.keras.layers.Dropout(0.2)(x)\n",
        "outputs = prediction_layer(x)\n",
        "model = tf.keras.Model(inputs, outputs)"
      ]
    },
    {
      "cell_type": "markdown",
      "metadata": {
        "id": "LIJB7PICRn77"
      },
      "source": [
        "#### Compile the model"
      ]
    },
    {
      "cell_type": "code",
      "execution_count": 66,
      "metadata": {
        "id": "p68p6mf6RrL-"
      },
      "outputs": [],
      "source": [
        "base_learning_rate = 0.0001\n",
        "model.compile(optimizer=tf.keras.optimizers.Adam(learning_rate=base_learning_rate),\n",
        "              loss=tf.keras.losses.CategoricalCrossentropy(from_logits=True),\n",
        "              metrics=['accuracy'])"
      ]
    },
    {
      "cell_type": "code",
      "execution_count": 67,
      "metadata": {
        "colab": {
          "base_uri": "https://localhost:8080/",
          "height": 0
        },
        "id": "dIwKK5eoSB_j",
        "outputId": "d78f5c3a-b90c-420d-a894-a2bcb83c60c9"
      },
      "outputs": [
        {
          "name": "stdout",
          "output_type": "stream",
          "text": [
            "Model: \"model_4\"\n",
            "_________________________________________________________________\n",
            " Layer (type)                Output Shape              Param #   \n",
            "=================================================================\n",
            " input_9 (InputLayer)        [(None, 224, 224, 3)]     0         \n",
            "                                                                 \n",
            " tf.math.truediv_4 (TFOpLamb  (None, 224, 224, 3)      0         \n",
            " da)                                                             \n",
            "                                                                 \n",
            " tf.math.subtract_4 (TFOpLam  (None, 224, 224, 3)      0         \n",
            " bda)                                                            \n",
            "                                                                 \n",
            " mobilenetv2_1.00_224 (Funct  (None, 7, 7, 1280)       2257984   \n",
            " ional)                                                          \n",
            "                                                                 \n",
            " global_average_pooling2d_3   (None, 1280)             0         \n",
            " (GlobalAveragePooling2D)                                        \n",
            "                                                                 \n",
            " dropout_4 (Dropout)         (None, 1280)              0         \n",
            "                                                                 \n",
            " dense_3 (Dense)             (None, 6)                 7686      \n",
            "                                                                 \n",
            "=================================================================\n",
            "Total params: 2,265,670\n",
            "Trainable params: 7,686\n",
            "Non-trainable params: 2,257,984\n",
            "_________________________________________________________________\n"
          ]
        }
      ],
      "source": [
        "model.summary()"
      ]
    },
    {
      "cell_type": "markdown",
      "metadata": {
        "id": "XBF4t1vWSG1l"
      },
      "source": [
        "#### Train the model.\n",
        "It looks like the initial accuracy of the model is very low"
      ]
    },
    {
      "cell_type": "code",
      "execution_count": 68,
      "metadata": {
        "colab": {
          "base_uri": "https://localhost:8080/",
          "height": 0
        },
        "id": "VLineRUoSHrl",
        "outputId": "c3d79725-242d-4200-e19d-34584c525d7f"
      },
      "outputs": [
        {
          "name": "stdout",
          "output_type": "stream",
          "text": [
            "2/2 [==============================] - 5s 1s/step - loss: 2.1301 - accuracy: 0.1000\n",
            "Test loss: 2.1301393508911133\n",
            "Test accuracy: 0.10000000149011612\n"
          ]
        }
      ],
      "source": [
        "initial_epochs = 10\n",
        "\n",
        "# evaluation\n",
        "score = model.evaluate(test_x, test_y)\n",
        "print('Test loss:', score[0])\n",
        "print('Test accuracy:', score[1])"
      ]
    },
    {
      "cell_type": "code",
      "execution_count": 69,
      "metadata": {
        "colab": {
          "base_uri": "https://localhost:8080/",
          "height": 0
        },
        "id": "4HdpnAHZSjCW",
        "outputId": "908f9f65-79d7-4271-8f9e-8b155feb60cf"
      },
      "outputs": [
        {
          "name": "stdout",
          "output_type": "stream",
          "text": [
            "Epoch 1/10\n",
            "2/2 [==============================] - 7s 2s/step - loss: 2.4661 - accuracy: 0.0600 - val_loss: 2.0941 - val_accuracy: 0.1000\n",
            "Epoch 2/10\n",
            "2/2 [==============================] - 4s 3s/step - loss: 2.2372 - accuracy: 0.2000 - val_loss: 2.0592 - val_accuracy: 0.1200\n",
            "Epoch 3/10\n",
            "2/2 [==============================] - 6s 4s/step - loss: 2.1622 - accuracy: 0.1400 - val_loss: 2.0269 - val_accuracy: 0.1200\n",
            "Epoch 4/10\n",
            "2/2 [==============================] - 5s 3s/step - loss: 2.1780 - accuracy: 0.1400 - val_loss: 1.9955 - val_accuracy: 0.1400\n",
            "Epoch 5/10\n",
            "2/2 [==============================] - 3s 2s/step - loss: 2.0626 - accuracy: 0.2200 - val_loss: 1.9659 - val_accuracy: 0.1600\n",
            "Epoch 6/10\n",
            "2/2 [==============================] - 8s 6s/step - loss: 2.0808 - accuracy: 0.2400 - val_loss: 1.9385 - val_accuracy: 0.1800\n",
            "Epoch 7/10\n",
            "2/2 [==============================] - 5s 4s/step - loss: 2.0744 - accuracy: 0.1800 - val_loss: 1.9123 - val_accuracy: 0.2000\n",
            "Epoch 8/10\n",
            "2/2 [==============================] - 7s 5s/step - loss: 1.9975 - accuracy: 0.2400 - val_loss: 1.8873 - val_accuracy: 0.2000\n",
            "Epoch 9/10\n",
            "2/2 [==============================] - 5s 4s/step - loss: 1.9275 - accuracy: 0.2400 - val_loss: 1.8632 - val_accuracy: 0.2000\n",
            "Epoch 10/10\n",
            "2/2 [==============================] - 4s 3s/step - loss: 2.0550 - accuracy: 0.2000 - val_loss: 1.8400 - val_accuracy: 0.2200\n"
          ]
        }
      ],
      "source": [
        "history = model.fit(train_x, train_y,\n",
        "                    epochs=initial_epochs,\n",
        "                    validation_data=(test_x, test_y))"
      ]
    },
    {
      "cell_type": "markdown",
      "metadata": {
        "id": "Sb8srIcqaCUe"
      },
      "source": [
        "The accuracy has improved compared to the initial model accuracy."
      ]
    },
    {
      "cell_type": "code",
      "execution_count": 70,
      "metadata": {
        "colab": {
          "base_uri": "https://localhost:8080/",
          "height": 718
        },
        "id": "du6f9S1wSytT",
        "outputId": "6cea046e-737b-47cf-d975-653cb2813ff3"
      },
      "outputs": [
        {
          "data": {
            "image/png": "[encoded data removed]",
            "text/plain": [
              "<Figure size 800x800 with 2 Axes>"
            ]
          },
          "metadata": {},
          "output_type": "display_data"
        }
      ],
      "source": [
        "acc = history.history['accuracy']\n",
        "val_acc = history.history['val_accuracy']\n",
        "\n",
        "loss = history.history['loss']\n",
        "val_loss = history.history['val_loss']\n",
        "\n",
        "plt.figure(figsize=(8, 8))\n",
        "plt.subplot(2, 1, 1)\n",
        "plt.plot(acc, label='Training Accuracy')\n",
        "plt.plot(val_acc, label='Validation Accuracy')\n",
        "plt.legend(loc='lower right')\n",
        "plt.ylabel('Accuracy')\n",
        "plt.ylim([min(plt.ylim()), 0.4])\n",
        "plt.title('Training and Validation Accuracy')\n",
        "\n",
        "plt.subplot(2, 1, 2)\n",
        "plt.plot(loss, label='Training Loss')\n",
        "plt.plot(val_loss, label='Validation Loss')\n",
        "plt.legend(loc='upper right')\n",
        "plt.ylabel('Cross Entropy')\n",
        "plt.ylim([1.5, 2.5])\n",
        "plt.title('Training and Validation Loss')\n",
        "plt.xlabel('epoch')\n",
        "plt.show()"
      ]
    },
    {
      "cell_type": "markdown",
      "metadata": {
        "id": "nvNxrVn7TYA3"
      },
      "source": [
        "## Fine tuning"
      ]
    },
    {
      "cell_type": "code",
      "execution_count": 71,
      "metadata": {
        "id": "md4D17zATZin"
      },
      "outputs": [],
      "source": [
        "# unfreeze the model\n",
        "base_model.trainable = True"
      ]
    },
    {
      "cell_type": "code",
      "execution_count": 72,
      "metadata": {
        "colab": {
          "base_uri": "https://localhost:8080/",
          "height": 0
        },
        "id": "aZT7pXJsTiBz",
        "outputId": "64fe0257-2b1b-49ef-ac01-e76ded0230ca"
      },
      "outputs": [
        {
          "name": "stdout",
          "output_type": "stream",
          "text": [
            "Number of layers in the base model:  154\n"
          ]
        }
      ],
      "source": [
        "print(\"Number of layers in the base model: \", len(base_model.layers))\n",
        "\n",
        "# Fine-tune from this layer onwards\n",
        "fine_tune_at = 100\n",
        "\n",
        "# Freeze all the layers before the `fine_tune_at` layer\n",
        "for layer in base_model.layers[:fine_tune_at]:\n",
        "  layer.trainable = False"
      ]
    },
    {
      "cell_type": "markdown",
      "metadata": {
        "id": "rIF30xY0TolE"
      },
      "source": [
        "Compile the model"
      ]
    },
    {
      "cell_type": "code",
      "execution_count": 73,
      "metadata": {
        "colab": {
          "base_uri": "https://localhost:8080/",
          "height": 0
        },
        "id": "bQLC04G_TjpM",
        "outputId": "5070822f-89a9-4ee6-a8c3-78011d97ba8c"
      },
      "outputs": [
        {
          "name": "stdout",
          "output_type": "stream",
          "text": [
            "Model: \"model_4\"\n",
            "_________________________________________________________________\n",
            " Layer (type)                Output Shape              Param #   \n",
            "=================================================================\n",
            " input_9 (InputLayer)        [(None, 224, 224, 3)]     0         \n",
            "                                                                 \n",
            " tf.math.truediv_4 (TFOpLamb  (None, 224, 224, 3)      0         \n",
            " da)                                                             \n",
            "                                                                 \n",
            " tf.math.subtract_4 (TFOpLam  (None, 224, 224, 3)      0         \n",
            " bda)                                                            \n",
            "                                                                 \n",
            " mobilenetv2_1.00_224 (Funct  (None, 7, 7, 1280)       2257984   \n",
            " ional)                                                          \n",
            "                                                                 \n",
            " global_average_pooling2d_3   (None, 1280)             0         \n",
            " (GlobalAveragePooling2D)                                        \n",
            "                                                                 \n",
            " dropout_4 (Dropout)         (None, 1280)              0         \n",
            "                                                                 \n",
            " dense_3 (Dense)             (None, 6)                 7686      \n",
            "                                                                 \n",
            "=================================================================\n",
            "Total params: 2,265,670\n",
            "Trainable params: 1,869,126\n",
            "Non-trainable params: 396,544\n",
            "_________________________________________________________________\n"
          ]
        }
      ],
      "source": [
        "model.compile(loss=tf.keras.losses.CategoricalCrossentropy(from_logits=True),\n",
        "              optimizer = tf.keras.optimizers.RMSprop(learning_rate=base_learning_rate/10),\n",
        "              metrics=['accuracy'])\n",
        "\n",
        "model.summary()"
      ]
    },
    {
      "cell_type": "code",
      "execution_count": 74,
      "metadata": {
        "colab": {
          "base_uri": "https://localhost:8080/",
          "height": 0
        },
        "id": "iyUHbLpyT0J_",
        "outputId": "9bc12413-9bf2-454b-9890-db07f542ec90"
      },
      "outputs": [
        {
          "name": "stdout",
          "output_type": "stream",
          "text": [
            "Epoch 10/20\n",
            "2/2 [==============================] - 13s 4s/step - loss: 1.9546 - accuracy: 0.2000 - val_loss: 1.6190 - val_accuracy: 0.3800\n",
            "Epoch 11/20\n",
            "2/2 [==============================] - 6s 4s/step - loss: 1.4775 - accuracy: 0.4200 - val_loss: 1.5232 - val_accuracy: 0.4800\n",
            "Epoch 12/20\n",
            "2/2 [==============================] - 7s 4s/step - loss: 1.1771 - accuracy: 0.6400 - val_loss: 1.4610 - val_accuracy: 0.4600\n",
            "Epoch 13/20\n",
            "2/2 [==============================] - 5s 4s/step - loss: 1.0145 - accuracy: 0.6800 - val_loss: 1.4064 - val_accuracy: 0.5000\n",
            "Epoch 14/20\n",
            "2/2 [==============================] - 7s 4s/step - loss: 0.8714 - accuracy: 0.7200 - val_loss: 1.3630 - val_accuracy: 0.5200\n",
            "Epoch 15/20\n",
            "2/2 [==============================] - 4s 3s/step - loss: 0.7549 - accuracy: 0.8400 - val_loss: 1.3084 - val_accuracy: 0.5000\n",
            "Epoch 16/20\n",
            "2/2 [==============================] - 5s 4s/step - loss: 0.6390 - accuracy: 0.8400 - val_loss: 1.2903 - val_accuracy: 0.5400\n",
            "Epoch 17/20\n",
            "2/2 [==============================] - 7s 4s/step - loss: 0.6168 - accuracy: 0.9000 - val_loss: 1.2429 - val_accuracy: 0.5600\n",
            "Epoch 18/20\n",
            "2/2 [==============================] - 5s 4s/step - loss: 0.6058 - accuracy: 0.8600 - val_loss: 1.2292 - val_accuracy: 0.5800\n",
            "Epoch 19/20\n",
            "2/2 [==============================] - 6s 5s/step - loss: 0.5297 - accuracy: 0.9200 - val_loss: 1.1675 - val_accuracy: 0.6000\n",
            "Epoch 20/20\n",
            "2/2 [==============================] - 6s 4s/step - loss: 0.4342 - accuracy: 0.9600 - val_loss: 1.1500 - val_accuracy: 0.6000\n"
          ]
        }
      ],
      "source": [
        "fine_tune_epochs = 10\n",
        "total_epochs = initial_epochs + fine_tune_epochs\n",
        "\n",
        "history_fine = model.fit(train_x, train_y,\n",
        "                         epochs=total_epochs,\n",
        "                         initial_epoch=history.epoch[-1],\n",
        "                         validation_data=(test_x, test_y))"
      ]
    },
    {
      "cell_type": "markdown",
      "metadata": {
        "id": "rU7Rcd08yUfb"
      },
      "source": [
        "After fine-tuning, the accuracy has improved"
      ]
    },
    {
      "cell_type": "code",
      "execution_count": 75,
      "metadata": {
        "id": "6bjn9agYUDSN"
      },
      "outputs": [],
      "source": [
        "acc += history_fine.history['accuracy']\n",
        "val_acc += history_fine.history['val_accuracy']\n",
        "\n",
        "loss += history_fine.history['loss']\n",
        "val_loss += history_fine.history['val_loss']"
      ]
    },
    {
      "cell_type": "code",
      "execution_count": 77,
      "metadata": {
        "colab": {
          "base_uri": "https://localhost:8080/",
          "height": 718
        },
        "id": "X5wpYcHTUDve",
        "outputId": "ff1764c9-f767-4aee-f0aa-eeeb3556bcb3"
      },
      "outputs": [
        {
          "data": {
            "image/png": "[encoded data removed]",
            "text/plain": [
              "<Figure size 800x800 with 2 Axes>"
            ]
          },
          "metadata": {},
          "output_type": "display_data"
        }
      ],
      "source": [
        "plt.figure(figsize = (8, 8))\n",
        "plt.subplot(2, 1, 1)\n",
        "plt.plot(acc, label='Training Accuracy')\n",
        "plt.plot(val_acc, label='Validation Accuracy')\n",
        "plt.ylim([0, 1])\n",
        "plt.plot([initial_epochs-1,initial_epochs-1], plt.ylim(), label='Start Fine Tuning')\n",
        "plt.legend(loc='lower right')\n",
        "plt.title('Training and Validation Accuracy')\n",
        "\n",
        "plt.subplot(2, 1, 2)\n",
        "plt.plot(loss, label='Training Loss')\n",
        "plt.plot(val_loss, label='Validation Loss')\n",
        "plt.ylim([0, 2.5])\n",
        "plt.plot([initial_epochs-1,initial_epochs-1], plt.ylim(), label='Start Fine Tuning')\n",
        "plt.legend(loc='upper right')\n",
        "plt.title('Training and Validation Loss')\n",
        "plt.xlabel('epoch')\n",
        "plt.show()"
      ]
    },
    {
      "cell_type": "markdown",
      "metadata": {
        "id": "NnKCQEfxtLpf"
      },
      "source": [
        "#### Evaluation"
      ]
    },
    {
      "cell_type": "code",
      "execution_count": 78,
      "metadata": {
        "colab": {
          "base_uri": "https://localhost:8080/",
          "height": 0
        },
        "id": "AABdVyTaUSsp",
        "outputId": "3bf8ae3f-c239-435f-f5c1-a1c91a1524d4"
      },
      "outputs": [
        {
          "name": "stdout",
          "output_type": "stream",
          "text": [
            "2/2 [==============================] - 2s 548ms/step - loss: 1.1500 - accuracy: 0.6000\n",
            "Test loss: 1.1500091552734375\n",
            "Test accuracy: 0.6000000238418579\n"
          ]
        }
      ],
      "source": [
        "# evaluation\n",
        "score = model.evaluate(test_x, test_y)\n",
        "print('Test loss:', score[0])\n",
        "print('Test accuracy:', score[1])"
      ]
    },
    {
      "cell_type": "markdown",
      "metadata": {
        "id": "BUN7v2haUTrF"
      },
      "source": [
        "The accuracy is much better after fine tuning, with the accuracy being 0.60."
      ]
    },
    {
      "cell_type": "markdown",
      "metadata": {
        "id": "Cjrf2F5Augc3"
      },
      "source": [
        "### Analysis\n",
        "\n",
        "It looks like the sequential model did the worst out of all the other models, with accuracy of 0.1792. The CNN model did the second best, with an accuracy of 0.4353. The model that performed the best is the pretrained transfer learning model, which got an accuracy of 0.60 after fine tuning.\n",
        "\n",
        "It took all models a lot of time to run, with the CNN model running the longest. The pretrained transfer learning model probably performed the best out of all the models because it learns from previous tasks, while sequential and CNN models are not trained on anything prior to the creating of the model."
      ]
    }
  ],
  "metadata": {
    "colab": {
      "provenance": []
    },
    "kernelspec": {
      "display_name": "Python 3",
      "name": "python3"
    },
    "language_info": {
      "name": "python"
    }
  },
  "nbformat": 4,
  "nbformat_minor": 0
}
